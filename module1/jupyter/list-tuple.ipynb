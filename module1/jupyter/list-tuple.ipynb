{
 "cells": [
  {
   "cell_type": "markdown",
   "id": "6673f320",
   "metadata": {},
   "source": [
    "# 列表和元组\n",
    "\n",
    "今天我们一起来学习，Python 中最常见的两种数据结构：列表（list）和元组（tuple）。\n",
    "\n",
    "### 基础知识\n",
    "\n",
    "列表和元组都是一个可以存放任意数据类型的有序集合。在绝大多数编程语言中，集合的数据类型必须一致。不过，对于 Python 的列表和元组来说，并无此要求："
   ]
  },
  {
   "cell_type": "code",
   "execution_count": null,
   "id": "c39d6b26",
   "metadata": {},
   "outputs": [],
   "source": [
    "l = [1, 2, 'hello', 'world']\n",
    "print(l)\n",
    "t = ('Tony', 22)\n",
    "print(t)"
   ]
  },
  {
   "cell_type": "markdown",
   "id": "7f376997",
   "metadata": {},
   "source": [
    "### 列表和元组的区别\n",
    "* 列表是动态的，长度大小不固定，可以随意地增加、删减或者改变元素（mutable）\n",
    "* 元组是静态的，长度大小固定，无法改变 (immutable)\n",
    "\n",
    "我们来试试试图改变list和tuple"
   ]
  },
  {
   "cell_type": "code",
   "execution_count": null,
   "id": "70707001",
   "metadata": {},
   "outputs": [],
   "source": [
    "l = [1, 2, 3, 4]\n",
    "l[3] = 80\n",
    "print(l)\n",
    "\n",
    "t = (1, 2, 3, 4)\n",
    "t[3] = 8\n",
    "print(t)"
   ]
  },
  {
   "cell_type": "markdown",
   "id": "77d0e211",
   "metadata": {},
   "source": [
    "### 思考\n",
    "如果我们需要改变一个元组，应该怎么办呢？"
   ]
  },
  {
   "cell_type": "markdown",
   "id": "590ae727",
   "metadata": {},
   "source": [
    "### 负数索引\n",
    "list和tuple都支持负数索引，-1表示最后的一个元素，-2则表示倒数第二个元素。\n",
    "```bash\n",
    "l = [1, 2, 3, 4]\n",
    "l[-1]\n",
    "4\n",
    "\n",
    "t = (1, 2, 3, 4)\n",
    "t[-1]\n",
    "4\n",
    "```\n",
    "\n",
    "### 切片操作\n",
    "list和tuple都支持切片操作\n",
    "```bash\n",
    "l = [1, 2, 3, 4]\n",
    "l[1:3] # 返回列表中索引从1到2的子列表\n",
    "[2, 3]\n",
    "\n",
    "tup = (1, 2, 3, 4)\n",
    "tup[1:3] # 返回元组中索引从1到2的子元组\n",
    "(2, 3)\n",
    "```\n",
    "\n"
   ]
  },
  {
   "cell_type": "markdown",
   "id": "d99a03e6",
   "metadata": {},
   "source": [
    "### list和tuple可以随意嵌套\n",
    "```bash\n",
    "# 在这里list l1的每一个元素也是一个list\n",
    "l1 = [[1, 2], [3, 4]]\n",
    "\n",
    "# 在这里tuple t1的每一个元素也是一个tuple\n",
    "t1 = ((1, 2), (3, 4))\n",
    "```\n",
    "\n",
    "### 思考\n",
    "list能嵌套tuple吗？tuple能嵌套list吗？\n"
   ]
  },
  {
   "cell_type": "markdown",
   "id": "3b78a351",
   "metadata": {},
   "source": [
    "### list和tuple互换\n",
    "```bash\n",
    "\n",
    "list((1, 2, 3))\n",
    "[1, 2, 3]\n",
    "\n",
    "tuple([1, 2, 3])\n",
    "(1, 2, 3)\n",
    "```\n",
    "\n",
    "### 常用的内置函数\n",
    "```bash\n",
    "\n",
    "l = [3, 2, 3, 7, 8, 1]\n",
    "l.count(3) # 统计3出现的次数\n",
    "2\n",
    "\n",
    "l.index(7) # 返回list中第一次7出现的索引\n",
    "3\n",
    "\n",
    "l.reverse() # 原地倒转列表\n",
    "l\n",
    "[1, 8, 7, 3, 2, 3]\n",
    "\n",
    "l.sort() # 对列表进行排序\n",
    "l\n",
    "[1, 2, 3, 3, 7, 8]\n",
    "\n",
    "tup = (3, 2, 3, 7, 8, 1)\n",
    "tup.count(3)\n",
    "2\n",
    "tup.index(7)\n",
    "3\n",
    "list(reversed(tup))\n",
    "[1, 8, 7, 3, 2, 3]\n",
    "sorted(tup)\n",
    "[1, 2, 3, 3, 7, 8]\n",
    "```\n",
    "\n",
    "### 思考\n",
    "为什么tuple没有tuple.reverse()这个函数和tuple.sort()这个函数？"
   ]
  },
  {
   "cell_type": "markdown",
   "id": "aacee8e2",
   "metadata": {},
   "source": [
    "### 列表和元组的性能\n",
    "* 元组要比列表更加轻量级一些，所以总体上来说，元组的性能速度要略优于列表。\n",
    "* Python 会在后台，对静态数据做一些资源缓存（resource caching）。通常来说，因为垃圾回收机制的存在，如果一些变量不被使用了，Python 就会回收它们所占用的内存，返还给操作系统，以便其他变量或其他应用使用。\n",
    "* 但是对于一些静态变量，比如元组，如果它不被使用并且占用空间不大时，Python 会暂时缓存这部分内存。这样，下次我们再创建同样大小的元组时，Python 就可以不用再向操作系统发出请求，去寻找内存，而是可以直接分配之前缓存的内存空间，这样就能大大加快程序的运行速度。\n",
    "* 下面的例子是计算初始化一个相同元素的列表和元组分别所需的时间。我们可以看到，元组的初始化速度，要比列表快 5 倍\n",
    "```bash\n",
    "python3 -m timeit 'x=(1,2,3,4,5,6)'\n",
    "python3 -m timeit 'x=[1,2,3,4,5,6]'\n",
    "```"
   ]
  },
  {
   "cell_type": "markdown",
   "id": "db46801b",
   "metadata": {},
   "source": []
  },
  {
   "cell_type": "markdown",
   "id": "8cd76d22",
   "metadata": {},
   "source": [
    "### 总结\n",
    "总的来说，列表和元组都是有序的，可以存储任意数据类型的集合，区别主要在于下面这两点。\n",
    "* 列表是动态的，长度可变，可以随意的增加、删减或改变元素。列表的存储空间略大于元组，性能略逊于元组。\n",
    "* 元组是静态的，长度大小固定，不可以对元素进行增加、删减或者改变操作。元组相对于列表更加轻量级，性能稍优。"
   ]
  }
 ],
 "metadata": {
  "kernelspec": {
   "display_name": "Python 3",
   "language": "python",
   "name": "python3"
  },
  "language_info": {
   "codemirror_mode": {
    "name": "ipython",
    "version": 3
   },
   "file_extension": ".py",
   "mimetype": "text/x-python",
   "name": "python",
   "nbconvert_exporter": "python",
   "pygments_lexer": "ipython3",
   "version": "3.9.5"
  }
 },
 "nbformat": 4,
 "nbformat_minor": 5
}
