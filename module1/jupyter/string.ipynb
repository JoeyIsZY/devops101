{
 "cells": [
  {
   "cell_type": "code",
   "execution_count": null,
   "id": "9ad1ca29",
   "metadata": {},
   "outputs": [],
   "source": [
    "## 字符串 string\n",
    "\n",
    "Python 的程序中充满了字符串（string），在平常阅读代码时也屡见不鲜。字符串同样是 Python 中很常见的一种数据类型，\n",
    "比如日志的打印、程序中函数的注释、数据库的访问、变量的基本操作等等，都用到了字符串。\n",
    "\n",
    "### 字符串基础\n",
    "什么是字符串呢？字符串是由独立字符组成的一个序列，通常包含在单引号（''）双引号（\"\"）或者三引号之中\n",
    "（''' '''或\"\"\" \"\"\"，两者一样），比如下面几种写法。\n",
    "```bash\n",
    "name = 'jason'\n",
    "city = 'beijing'\n",
    "text = \"welcome to jike shijian\"\n",
    "```\n",
    "\n",
    "### docstring\n",
    "Python 的三引号字符串，则主要应用于多行字符串的情境，比如函数的注释等等。\n",
    "\n",
    "```bash\n",
    "\n",
    "def calculate_similarity(item1, item2):\n",
    "    \"\"\"\n",
    "    Calculate similarity between two items\n",
    "    Args:\n",
    "        item1: 1st item\n",
    "        item2: 2nd item\n",
    "    Returns:\n",
    "      similarity score between item1 and item2\n",
    "    \"\"\"\n",
    "```\n",
    "\n",
    "大家思考一下，为什么我们写一个函数，需要去写docstring呢？"
   ]
  },
  {
   "cell_type": "code",
   "execution_count": null,
   "id": "5d8bd6cd",
   "metadata": {},
   "outputs": [],
   "source": [
    "def calculate_similarity(item1, item2):\n",
    "    \"\"\"\n",
    "    Calculate similarity between two items\n",
    "    Args:\n",
    "        item1: 1st item\n",
    "        item2: 2nd item\n",
    "    Returns:\n",
    "      similarity score between item1 and item2\n",
    "    \"\"\"\n",
    "    pass\n",
    "\n",
    "help(calculate_similarity)\n"
   ]
  },
  {
   "cell_type": "markdown",
   "id": "9d223797",
   "metadata": {},
   "source": [
    "\n",
    "\n",
    "### 字符串的常用操作\n",
    "* 切片\n",
    "```bash\n",
    "name = 'jason'\n",
    "name[1:3]\n",
    "'as'\n",
    "```\n",
    "\n",
    "* 索引\n",
    "```bash\n",
    "name = 'jason'\n",
    "name[0]\n",
    "'j'\n",
    "name[-1]\n",
    "'n'\n",
    "```\n",
    "* 遍历\n",
    "```bash\n",
    "name = 'jason'\n",
    "for _ in name:\n",
    "    print(_)\n",
    "```\n",
    "* 拼接\n",
    "```bash\n",
    "str1 = 'abc'\n",
    "str2 = 'efg'\n",
    "str1 += str2  # 表示str1 = str1 + str2\n",
    "```\n",
    "* 去掉空字符\n",
    "```bash\n",
    "string.strip(str)，表示去掉首尾的 str 字符\n",
    "string.lstrip(str)，表示只去掉开头的 str 字符\n",
    "string.rstrip(str)，表示只去掉尾部的 str 字符串。\n",
    "```\n",
    "\n",
    "* Count字母的出现次数\n",
    "```bash\n",
    "s = 'testtesttt'\n",
    "s.count('t')\n",
    "\n",
    "6\n",
    "```"
   ]
  },
  {
   "cell_type": "markdown",
   "id": "72dcff8e",
   "metadata": {},
   "source": [
    "### String是不可变的\n",
    "Python 的字符串是不可变的（immutable）。\n",
    "```bash\n",
    "s = 'hello'\n",
    "s[0] = 'H'\n",
    "\n",
    "\n",
    "s = 'H' + s[1:]\n",
    "s = s.replace('h', 'H')\n",
    "```"
   ]
  },
  {
   "cell_type": "code",
   "execution_count": null,
   "id": "bfe81e47",
   "metadata": {},
   "outputs": [],
   "source": [
    "s = 'hello'\n",
    "s[0] = 'H'\n",
    "\n",
    "\n",
    "s = 'H' + s[1:]\n",
    "s = s.replace('h', 'H')"
   ]
  }
 ],
 "metadata": {
  "kernelspec": {
   "display_name": "Python 3",
   "language": "python",
   "name": "python3"
  },
  "language_info": {
   "codemirror_mode": {
    "name": "ipython",
    "version": 3
   },
   "file_extension": ".py",
   "mimetype": "text/x-python",
   "name": "python",
   "nbconvert_exporter": "python",
   "pygments_lexer": "ipython3",
   "version": "3.9.5"
  }
 },
 "nbformat": 4,
 "nbformat_minor": 5
}
