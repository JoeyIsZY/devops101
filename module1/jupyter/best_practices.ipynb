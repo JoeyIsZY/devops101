{
 "cells": [
  {
   "cell_type": "markdown",
   "id": "93e9ceaa",
   "metadata": {},
   "source": [
    "### 条件和循环的复用\n",
    "在阅读代码的时候，你应该常常会发现，有很多将条件与循环并做一行的操作，例如：\n",
    "```python\n",
    "expression1 if condition else expression2 for item in iterable\n",
    "```\n",
    "\n",
    "将这个表达式分解开来，其实就等同于下面这样的嵌套结构：\n",
    "```python\n",
    "\n",
    "for item in iterable:\n",
    "    if condition:\n",
    "        expression1\n",
    "    else:\n",
    "        expression2\n",
    "```\n",
    "\n",
    "举个例子，比如我们要绘制 y = 2*|x| + 5 的函数图像，给定集合 x 的数据点，需要计算出 y 的数据集合，那么只用一行代码，就可以很轻松地解决问题了：\n",
    "```python\n",
    "y = [v * 2 + 5 if v > 0 else -v * 2 + 5 for v in x]\n",
    "```\n",
    "\n",
    "比如，给定两个列表 x、y，要求返回 x、y 中所有元素对组成的元组，相等情况除外。那么，你也可以很容易表示出来：\n",
    "```python\n",
    "\n",
    "l = []\n",
    "for xx in x:\n",
    "    for yy in y:\n",
    "        if xx != yy:\n",
    "            l.append((xx, yy))\n",
    "            \n",
    "\n",
    "# 复用写法\n",
    "[(xx, yy) for xx in x for yy in y if xx != yy]\n",
    "```"
   ]
  },
  {
   "cell_type": "markdown",
   "id": "cea61845",
   "metadata": {},
   "source": [
    "### 匿名函数\n",
    "匿名函数往往很简短，就一行，并且有个很酷炫的名字——lambda。它们通常简约而不简单。\n",
    "\n",
    "我们先看个例子\n",
    "```python\n",
    "lambda argument1, argument2,... argumentN : expression\n",
    "```\n",
    "我们可以看到，匿名函数的关键字是 lambda，之后是一系列的参数，参数之间用冒号隔开，最后则是由这些参数组成的表达式。\n",
    "\n",
    "举一个实例，比如我们要算一个数的平方，通常的做法是\n",
    "```python\n",
    "def square(x: int):\n",
    "    return x**2\n",
    "\n",
    "square(3)\n",
    "```\n",
    "\n",
    "如果写成lambda的形式的话，就是\n",
    "```python\n",
    "square = lambda: x: x**2\n",
    "square(3)\n",
    "```\n",
    "可以看到匿名函数 lambda 和常规函数一样，返回的都是一个函数对象（function object）。\n",
    "\n",
    "### 匿名函数和普通函数的区别\n",
    "* 第一，lambda 是一个表达式（expression），并不是一个语句（statement）。\n",
    "* 第二，lambda 的主体是只有一行的简单表达式，并不能扩展成一个多行的代码块。"
   ]
  }
 ],
 "metadata": {
  "kernelspec": {
   "display_name": "Python 3 (ipykernel)",
   "language": "python",
   "name": "python3"
  },
  "language_info": {
   "codemirror_mode": {
    "name": "ipython",
    "version": 3
   },
   "file_extension": ".py",
   "mimetype": "text/x-python",
   "name": "python",
   "nbconvert_exporter": "python",
   "pygments_lexer": "ipython3",
   "version": "3.9.5"
  }
 },
 "nbformat": 4,
 "nbformat_minor": 5
}
