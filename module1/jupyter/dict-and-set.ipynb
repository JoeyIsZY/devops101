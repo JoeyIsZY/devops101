{
 "cells": [
  {
   "cell_type": "markdown",
   "id": "9b7933c8",
   "metadata": {},
   "source": [
    "## Dict 和 Set\n",
    "\n",
    "### dict和集合的基础知识\n",
    "* 字典是一系列由键（key）和值（value）配对组成的元素的集合: d = { 'name': 'Tony', 'job': 'DevOps'}\n",
    "* 在Python3.6+之后，字典是有序的, 键值对A先插入字典，键值对B后插入字典，但是当你打印字典的Keys列表时，你会发现B可能在A的前面。但是从Python 3.6开始，字典是变成有顺序的了。你先插入键值对A，后插入键值对B，那么当你打印Keys列表的时候，你就会发现B在A的后面。\n",
    "* 相比list和tuple，字典的性能更优，特别是对于增删改查，字典的操作复杂度是O(1)\n",
    "* 集合没有键和值的配对，是一系列无序的、唯一的元素组合。s = {'tony', 'python', 3, 2}\n",
    "* 虽然集合看起来很像list或者tuple，但是集合并不支持索引操作，因为集合本质上是一个哈希表，和列表不一样。"
   ]
  },
  {
   "cell_type": "code",
   "execution_count": null,
   "id": "3f977e66",
   "metadata": {},
   "outputs": [],
   "source": [
    "s = [1, 2, 3, 4]\n",
    "s[2]\n",
    "\n",
    "s = {1, 2, 3, 4}\n",
    "s[2]"
   ]
  },
  {
   "cell_type": "markdown",
   "id": "0c989163",
   "metadata": {},
   "source": [
    "### dict和集合的创建\n",
    "dict和set的创建通常来说有以下几种方式\n",
    "```bash\n",
    "d1 = {'name': 'jason', 'age': 20, 'gender': 'male'}\n",
    "d2 = dict({'name': 'jason', 'age': 20, 'gender': 'male'})\n",
    "d3 = dict([('name', 'jason'), ('age', 20), ('gender', 'male')])\n",
    "d4 = dict(name='jason', age=20, gender='male') \n",
    "d1 == d2 == d3 ==d4\n",
    "True\n",
    "\n",
    "s1 = {1, 2, 3}\n",
    "s2 = set([1, 2, 3])\n",
    "s1 == s2\n",
    "True\n",
    "```"
   ]
  },
  {
   "cell_type": "markdown",
   "id": "a5b99a01",
   "metadata": {},
   "source": [
    "### dict的访问\n",
    "* dict可以直接通过索引键访问，如果不存在索引键，那么就会抛出异常\n",
    "```bash\n",
    "d = {'name': 'jason', 'age': 20}\n",
    "d['name']\n",
    "'jason'\n",
    "d['location']\n",
    "```\n",
    "* 你也可以用get()函数来进行访问\n",
    "```bash\n",
    "d = {'name': 'jason', 'age': 20}\n",
    "d.get('name')\n",
    "'jason'\n",
    "d.get('location', 'null')\n",
    "'null'\n",
    "```\n",
    "\n",
    "### set的访问\n",
    "* 集合并不支持索引操作，因为集合本质上是一个哈希表，和列表不一样。大家看看下面这个例子，觉得返回值是多少呢？\n",
    "```bash\n",
    "s = {1, 2, 3}\n",
    "s[0]\n",
    "```\n",
    "* 考考大家，如果我想从一个set里面获取第二个元素，有什么办法呢？\n"
   ]
  },
  {
   "cell_type": "markdown",
   "id": "ce40d6ac",
   "metadata": {},
   "source": [
    "### dict和set的基本操作\n",
    "* 判断是否存在\n",
    "```bash\n",
    "\n",
    "s = {1, 2, 3}\n",
    "1 in s\n",
    "True\n",
    "10 in s\n",
    "False\n",
    "\n",
    "d = {'name': 'jason', 'age': 20}\n",
    "'name' in d\n",
    "True\n",
    "'location' in d\n",
    "False\n",
    "```\n",
    "* 增加元素\n",
    "```bash\n",
    "d = {'name': 'jason', 'age': 20}\n",
    "d['gender'] = 'male' # 增加元素对'gender': 'male'\n",
    "d['dob'] = '1999-02-01' # 增加元素对'dob': '1999-02-01'\n",
    "s = {1, 2, 3}\n",
    "s.add(4) # 增加元素4到集合\n",
    "```\n",
    "* 删除元素\n",
    "```bash\n",
    "d.pop('dob') # 删除键为'dob'的元素对\n",
    "'1998-01-01'\n",
    "\n",
    "s = {1, 2, 3, 4}\n",
    "s.remove(4)\n",
    "```\n"
   ]
  },
  {
   "cell_type": "markdown",
   "id": "a296cf28",
   "metadata": {},
   "source": [
    "### dict和set的排序\n",
    "很多情况下，我们需要对字典或集合进行排序，比如，取出值最大的 50 对。而对于dict，我们通常会根据键或值，进行升序或降序排序\n",
    "```bash\n",
    "d = {'b': 1, 'a': 2, 'c': 10}\n",
    "d_sorted_by_key = sorted(d.items(), key=lambda x: x[0]) # 根据字典键的升序排序\n",
    "d_sorted_by_value = sorted(d.items(), key=lambda x: x[1]) # 根据字典值的升序排序\n",
    "d_sorted_by_key\n",
    "[('a', 2), ('b', 1), ('c', 10)]\n",
    "d_sorted_by_value\n",
    "[('b', 1), ('a', 2), ('c', 10)]\n",
    "```\n",
    "set的排序比较简单，直接sort就可以\n",
    "```bash\n",
    "s = {3, 4, 2, 1}\n",
    "sorted(s) # 对集合的元素进行升序排序\n",
    "[1, 2, 3, 4]\n",
    "```\n",
    "\n",
    "### 字典和集合的工作原理\n",
    "每次向字典或集合插入一个元素时，Python 会首先计算键的哈希值（hash(key)），再和 mask = PyDicMinSize - 1 做与操作，计算这个元素应该插入哈希表的位置 index = hash(key) & mask。如果哈希表中此位置是空的，那么这个元素就会被插入其中。\n",
    "\n",
    "而如果此位置已被占用，Python 便会比较两个元素的哈希值和键是否相等。\n",
    "* 若两者都相等，则表明这个元素已经存在，如果值不同，则更新值。\n",
    "* 若两者中有一个不相等，这种情况我们通常称为哈希冲突（hash collision），意思是两个元素的键不相等，但是哈希值相等。这种情况下，Python 便会继续寻找表中空余的位置，直到找到位置为止。\n",
    "\n",
    "插入、查找和删除的时间复杂度为 O(1)\n",
    "\n",
    "### 应用举例\n",
    "比如电商企业的后台，存储了每件产品的 ID、名称和价格。现在的需求是，给定某件商品的 ID，我们要找出其价格。\n",
    "\n",
    "如果我们用列表来存储这些数据结构，并进行查找，相应的代码如下：\n",
    "```bash\n",
    "\n",
    "def find_product_price(products, product_id):\n",
    "    for id, price in products:\n",
    "        if id == product_id:\n",
    "            return price\n",
    "    return None \n",
    "     \n",
    "products = [\n",
    "    (143121312, 100), \n",
    "    (432314553, 30),\n",
    "    (32421912367, 150) \n",
    "]\n",
    "\n",
    "print('The price of product 432314553 is {}'.format(find_product_price(products, 432314553)))\n",
    "\n",
    "# 输出\n",
    "The price of product 432314553 is 30\n",
    "```\n",
    "\n",
    "用字典的代码\n",
    "```bash\n",
    "\n",
    "products = {\n",
    "  143121312: 100,\n",
    "  432314553: 30,\n",
    "  32421912367: 150\n",
    "}\n",
    "print('The price of product 432314553 is {}'.format(products[432314553])) \n",
    "\n",
    "# 输出\n",
    "The price of product 432314553 is 30\n",
    "```"
   ]
  },
  {
   "cell_type": "markdown",
   "id": "52645f86",
   "metadata": {},
   "source": [
    "### 思考\n",
    "既然我们有了list和tuple？我们为什么需要集合？"
   ]
  },
  {
   "cell_type": "code",
   "execution_count": 8,
   "id": "105a7b59",
   "metadata": {},
   "outputs": [
    {
     "name": "stdout",
     "output_type": "stream",
     "text": [
      "[1, 2, 3, 4, 5, 6]\n",
      "[1, 2, 3, 4, 5, 6]\n"
     ]
    }
   ],
   "source": [
    "l1 = [1, 2, 3, 4, 5, 5, 5, 6]\n",
    "\n",
    "temp_l1 = []\n",
    "\n",
    "for x in l1:\n",
    "     if x not in temp_l1:\n",
    "        temp_l1.append(x)\n",
    "\n",
    "print(temp_l1)\n",
    "\n",
    "temp_l2 = list(set(l1))\n",
    "\n",
    "print(temp_l2)"
   ]
  },
  {
   "cell_type": "code",
   "execution_count": null,
   "id": "1c1b2390",
   "metadata": {},
   "outputs": [],
   "source": []
  }
 ],
 "metadata": {
  "kernelspec": {
   "display_name": "Python 3",
   "language": "python",
   "name": "python3"
  },
  "language_info": {
   "codemirror_mode": {
    "name": "ipython",
    "version": 3
   },
   "file_extension": ".py",
   "mimetype": "text/x-python",
   "name": "python",
   "nbconvert_exporter": "python",
   "pygments_lexer": "ipython3",
   "version": "3.9.5"
  }
 },
 "nbformat": 4,
 "nbformat_minor": 5
}
