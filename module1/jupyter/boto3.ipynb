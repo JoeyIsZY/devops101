{
 "cells": [
  {
   "cell_type": "markdown",
   "id": "d2b7db6d",
   "metadata": {},
   "source": [
    "### 什么是boto3？\n",
    "Boto 是AWS的基于python的SDK（当然还支持其他语言的SDK，例如Ruby, Java等)，Boto允许开发人员编写软件时使用亚马逊等服务像S3和EC2等，Boto提供了简单，面向对象的API，也提供了低等级的服务接入。\n",
    "\n",
    "说白了，boto3就是一个Python的函数库集合，或者framework。\n",
    "\n",
    "### 如何安装boto3\n",
    "1. 创建一个Python的虚拟环境\n",
    "```bash\n",
    "$ python3 -m venv boto3\n",
    "```\n",
    "\n",
    "2. Intialize虚拟环境\n",
    "```bash\n",
    "$ source boto3/bin/activate\n",
    "```\n",
    "\n",
    "3. 安装boto3\n",
    "```bash\n",
    "$ pip install boto3\n",
    "```\n",
    "\n",
    "4. 配置aws的configre文件\n",
    "```bash\n",
    "$ aws configure\n",
    "AWS Access Key ID [None]: dddd\n",
    "AWS Secret Access Key [None]: dddd\n",
    "Default region name [None]: us-east-1\n",
    "Default output format [None]: json\n",
    "```\n",
    "\n",
    "\n"
   ]
  },
  {
   "cell_type": "markdown",
   "id": "645ac36e",
   "metadata": {},
   "source": [
    "### 课程要用到的AWS知识\n",
    "1. 我们需要学习AWS的那几个主要的方面\n",
    " * EC2 （云服务器，大部分的公司还在EC2上面跑自己的app，但是慢慢在向Kubernetes转）\n",
    " * VPC （这是灵魂，virtual pricate cloud，这个概念一定要了解）\n",
    "    - Security group\n",
    "    - Route table\n",
    "    - Subnet\n",
    " * S3 （simple storage 服务。这个是AWS最早的服务，也是运用最多的服务\n",
    " * Region的概念\n",
    " * Availability zone 概念\n",
    " * EBS volume\n",
    " * ELB （Elastic load balancer）\n",
    "\n",
    "2. 我们AWS最终做一个什么样的项目\n",
    "  - 一条完整的CICD pipeline，源代码控制 (github), 自动integration和build 打包（Jenkins），自动存储打好的包（Jenkins），自动把最新的包deploy到EC2的服务器上去，然后自动通知slack\n",
    "  - 在上一条的基础上，进行容器化"
   ]
  }
 ],
 "metadata": {
  "kernelspec": {
   "display_name": "Python 3 (ipykernel)",
   "language": "python",
   "name": "python3"
  },
  "language_info": {
   "codemirror_mode": {
    "name": "ipython",
    "version": 3
   },
   "file_extension": ".py",
   "mimetype": "text/x-python",
   "name": "python",
   "nbconvert_exporter": "python",
   "pygments_lexer": "ipython3",
   "version": "3.9.5"
  }
 },
 "nbformat": 4,
 "nbformat_minor": 5
}
